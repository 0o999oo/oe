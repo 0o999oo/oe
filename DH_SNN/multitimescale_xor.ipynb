{
  "nbformat": 4,
  "nbformat_minor": 0,
  "metadata": {
    "colab": {
      "provenance": [],
      "authorship_tag": "ABX9TyNkmUd/OTPtmdkrmoscYFUD",
      "include_colab_link": true
    },
    "kernelspec": {
      "name": "python3",
      "display_name": "Python 3"
    },
    "language_info": {
      "name": "python"
    }
  },
  "cells": [
    {
      "cell_type": "markdown",
      "metadata": {
        "id": "view-in-github",
        "colab_type": "text"
      },
      "source": [
        "<a href=\"https://colab.research.google.com/github/0o999oo/oe/blob/master/DH_SNN/multitimescale_xor.ipynb\" target=\"_parent\"><img src=\"https://colab.research.google.com/assets/colab-badge.svg\" alt=\"Open In Colab\"/></a>"
      ]
    },
    {
      "cell_type": "code",
      "execution_count": null,
      "metadata": {
        "id": "qkJrm4KvV7jn",
        "collapsed": true
      },
      "outputs": [],
      "source": [
        "!git clone https://github.com/eva1801/DH-SNN.git\n",
        "\n",
        "%cd /content/DH-SNN/multitimescale_xor"
      ]
    },
    {
      "cell_type": "code",
      "source": [
        "!sed -i '207a\\    os.makedirs(path, exist_ok=True)' /content/DH-SNN/multitimescale_xor/multi_xor_snn.py"
      ],
      "metadata": {
        "id": "x8wAR7mYvITn"
      },
      "execution_count": null,
      "outputs": []
    },
    {
      "cell_type": "code",
      "source": [
        "!python multi_xor_snn.py"
      ],
      "metadata": {
        "id": "OizxI-KHbnmw"
      },
      "execution_count": null,
      "outputs": []
    }
  ]
}