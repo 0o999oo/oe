{
  "cells": [
    {
      "cell_type": "markdown",
      "metadata": {
        "id": "view-in-github",
        "colab_type": "text"
      },
      "source": [
        "<a href=\"https://colab.research.google.com/github/0o999oo/oe/blob/master/DH_SNN/delayed_xor.ipynb\" target=\"_parent\"><img src=\"https://colab.research.google.com/assets/colab-badge.svg\" alt=\"Open In Colab\"/></a>"
      ]
    },
    {
      "cell_type": "code",
      "execution_count": null,
      "metadata": {
        "id": "gqOkCvO3vdFh"
      },
      "outputs": [],
      "source": [
        "!git clone https://github.com/eva1801/DH-SNN.git\n",
        "\n",
        "%cd /content/DH-SNN/delayed_xor"
      ]
    },
    {
      "cell_type": "code",
      "execution_count": null,
      "metadata": {
        "id": "ekdrKgOpx5c5"
      },
      "outputs": [],
      "source": [
        "!sed -i '213i\\            os.makedirs(path, exist_ok=True)' /content/DH-SNN/delayed_xor/delayed_xor_snn.py\n",
        "!sed -i '72s/.*/device = torch.device(f\"cuda:{torch.cuda.current_device()}\" if torch.cuda.is_available() else \"cpu\")/' /content/DH-SNN/delayed_xor/delayed_xor_snn.py"
      ]
    },
    {
      "cell_type": "code",
      "execution_count": null,
      "metadata": {
        "id": "8InuHlgiv8zX"
      },
      "outputs": [],
      "source": [
        "!python delayed_xor_snn.py"
      ]
    }
  ],
  "metadata": {
    "colab": {
      "provenance": [],
      "authorship_tag": "ABX9TyMEeT+EEPF7ZVlirS2so5z0",
      "include_colab_link": true
    },
    "kernelspec": {
      "display_name": "Python 3",
      "name": "python3"
    },
    "language_info": {
      "name": "python"
    }
  },
  "nbformat": 4,
  "nbformat_minor": 0
}